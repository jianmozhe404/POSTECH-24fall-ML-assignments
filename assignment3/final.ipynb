{
 "cells": [
  {
   "cell_type": "code",
   "execution_count": 235,
   "metadata": {},
   "outputs": [
    {
     "name": "stdout",
     "output_type": "stream",
     "text": [
      "PyTorch version: 1.10.2\n",
      "CUDA available: True\n",
      "CUDA device: NVIDIA GeForce RTX 3070 Ti Laptop GPU\n",
      "Total Memory: 8.00 GB\n",
      "Current Memory Usage: 0.06 GB\n",
      "Current Free Memory: 3.40 GB\n",
      "11.3\n",
      "Using device: cuda\n"
     ]
    }
   ],
   "source": [
    "import os\n",
    "import glob\n",
    "import json\n",
    "from PIL import Image\n",
    "\n",
    "import numpy as np # linear algebra\n",
    "import pandas as pd # data processing, CSV file I/O (e.g. pd.read_csv)\n",
    "import torch\n",
    "import torch.nn as nn\n",
    "import torch.optim as optim\n",
    "from torch.utils.data import Dataset, DataLoader\n",
    "from torchvision import transforms\n",
    "from tqdm import tqdm\n",
    "import matplotlib.pyplot as plt  \n",
    "\n",
    "print(\"PyTorch version:\", torch.__version__)\n",
    "print(\"CUDA available:\", torch.cuda.is_available())\n",
    "print(\"CUDA device:\", torch.cuda.get_device_name(0) if torch.cuda.is_available() else \"No GPU detected\")\n",
    "print(f\"Total Memory: {torch.cuda.get_device_properties(0).total_memory / 1024**3:.2f} GB\")\n",
    "print(f\"Current Memory Usage: {torch.cuda.memory_allocated(0) / 1024**3:.2f} GB\")\n",
    "print(f\"Current Free Memory: {torch.cuda.memory_reserved(0) / 1024**3:.2f} GB\")\n",
    "print(torch.version.cuda)\n",
    "\n",
    "device = torch.device(\"cuda\" if torch.cuda.is_available() else \"cpu\")\n",
    "print(\"Using device:\", device)"
   ]
  },
  {
   "cell_type": "code",
   "execution_count": 236,
   "metadata": {},
   "outputs": [],
   "source": [
    "import torch\n",
    "from torch.utils.data import Dataset\n",
    "import os\n",
    "import glob\n",
    "from PIL import Image\n",
    "import json\n",
    "\n",
    "class CustomDataset(Dataset):\n",
    "    def __init__(self, image_dir, label_dir, transform=None, partition=None):\n",
    "        # 在 image_dir 中搜索所有 .png 文件\n",
    "        self.image_paths = glob.glob(os.path.join(image_dir, '**', '*.png'), recursive=True)\n",
    "\n",
    "        if partition:\n",
    "            start, end = partition\n",
    "            self.image_paths = self.image_paths[start:end]\n",
    "\n",
    "        self.label_dir = label_dir\n",
    "        self.transform = transform\n",
    "        self.image_dir = image_dir\n",
    "\n",
    "    def __len__(self):\n",
    "        return len(self.image_paths)\n",
    "\n",
    "    def __getitem__(self, index):\n",
    "        image_path = self.image_paths[index]\n",
    "        image = Image.open(image_path).convert('RGB')\n",
    "\n",
    "        if self.transform:\n",
    "            image = self.transform(image)  # 数据标准化和数据增强\n",
    "\n",
    "        relative_path = os.path.relpath(image_path, self.image_dir)\n",
    "        label_path = os.path.join(self.label_dir, relative_path).replace('.png', '.json')\n",
    "\n",
    "        labels = torch.zeros(9)\n",
    "\n",
    "        if os.path.exists(label_path):\n",
    "            with open(label_path, 'r', encoding='utf-8') as f:\n",
    "                label_data = json.load(f)\n",
    "                for key, value in label_data.items():\n",
    "                    labels[int(key)] = float(value)\n",
    "\n",
    "        return image, labels\n"
   ]
  },
  {
   "cell_type": "code",
   "execution_count": 237,
   "metadata": {},
   "outputs": [
    {
     "data": {
      "text/plain": [
       "'\\nuesd to compute the mean and std :\\n\\nresult: Computed mean: tensor([0.0234, 0.0241, 0.0240], device=\\'cuda:0\\'), std: tensor([0.0071, 0.0062, 0.0066], device=\\'cuda:0\\')\\n\\nfrom sklearn.model_selection import train_test_split\\n\\ntranform = transforms.Compose([\\n    transforms.Resize((500,500)),\\n    transforms.ToTensor(),\\n    #transforms.Normalize(mean=[0.0041, 0.0044, 0.0044], std=[0.0033, 0.0028, 0.0030])\\n])\\n\\nimage_dir=\\'./dataset/dataset/image\\'\\nlabel_dir=\\'./dataset/dataset/label\\'\\ndataset = CustomDataset(image_dir, label_dir,transform=tranform)\\n\\ndef compute_mean_std(dataset):\\n    mean = torch.zeros(3).to(device)\\n    std = torch.zeros(3).to(device)\\n    for images, _ in DataLoader(dataset, batch_size=32):\\n        mean += images.mean(dim=[0, 2, 3])\\n        std += images.std(dim=[0, 2, 3])\\n    mean /= len(dataset)\\n    std /= len(dataset)\\n    return mean, std\\n\\n\\nmean, std = compute_mean_std(dataset)\\nprint(f\"Computed mean: {mean}, std: {std}\")\\n\\n'"
      ]
     },
     "execution_count": 237,
     "metadata": {},
     "output_type": "execute_result"
    }
   ],
   "source": [
    "'''\n",
    "uesd to compute the mean and std :\n",
    "\n",
    "result: Computed mean: tensor([0.0234, 0.0241, 0.0240], device='cuda:0'), std: tensor([0.0071, 0.0062, 0.0066], device='cuda:0')\n",
    "\n",
    "from sklearn.model_selection import train_test_split\n",
    "\n",
    "tranform = transforms.Compose([\n",
    "    transforms.Resize((500,500)),\n",
    "    transforms.ToTensor(),\n",
    "    #transforms.Normalize(mean=[0.0041, 0.0044, 0.0044], std=[0.0033, 0.0028, 0.0030])\n",
    "])\n",
    "\n",
    "image_dir='./dataset/dataset/image'\n",
    "label_dir='./dataset/dataset/label'\n",
    "dataset = CustomDataset(image_dir, label_dir,transform=tranform)\n",
    "\n",
    "def compute_mean_std(dataset):\n",
    "    mean = torch.zeros(3).to(device)\n",
    "    std = torch.zeros(3).to(device)\n",
    "    for images, _ in DataLoader(dataset, batch_size=32):\n",
    "        mean += images.mean(dim=[0, 2, 3])\n",
    "        std += images.std(dim=[0, 2, 3])\n",
    "    mean /= len(dataset)\n",
    "    std /= len(dataset)\n",
    "    return mean, std\n",
    "\n",
    "\n",
    "mean, std = compute_mean_std(dataset)\n",
    "print(f\"Computed mean: {mean}, std: {std}\")\n",
    "\n",
    "'''"
   ]
  },
  {
   "cell_type": "code",
   "execution_count": 238,
   "metadata": {},
   "outputs": [
    {
     "data": {
      "text/plain": [
       "'\\ntrain_paths, test_paths = train_test_split(dataset.image_paths,test_size=0.2,random_state=42)\\n\\ntrain_dataset = CustomDataset(image_dir, label_dir, transform=tranform, partition=(0, len(train_paths)))\\ntest_dataset = CustomDataset(image_dir, label_dir, transform=validation_transforms, partition=(len(train_paths), len(dataset.image_paths)))\\n\\ntrain_loader = DataLoader(train_dataset, batch_size=64, shuffle=True, num_workers=0,pin_memory=True)\\ntest_loader = DataLoader(test_dataset, batch_size=64, shuffle=False, num_workers=0,pin_memory=True)\\n'"
      ]
     },
     "execution_count": 238,
     "metadata": {},
     "output_type": "execute_result"
    }
   ],
   "source": [
    "from sklearn.model_selection import train_test_split\n",
    "\n",
    "tranform = transforms.Compose([\n",
    "    transforms.Resize((256,256)),\n",
    "    \n",
    "    transforms.ToTensor(),\n",
    "    transforms.Normalize(mean=[0.0234, 0.0241, 0.0240], std=[0.0071, 0.0062, 0.0066])\n",
    "])\n",
    "\n",
    "validation_transforms = transforms.Compose([\n",
    "    transforms.Resize((256, 256)),\n",
    "    transforms.ToTensor(),\n",
    "    transforms.Normalize(mean=[0.0234, 0.0241, 0.0240], std=[0.0071, 0.0062, 0.0066])\n",
    "])\n",
    "\n",
    "image_dir='./dataset/dataset/image'\n",
    "label_dir='./dataset/dataset/label'\n",
    "dataset = CustomDataset(image_dir,label_dir,transform=tranform)\n",
    "'''\n",
    "train_paths, test_paths = train_test_split(dataset.image_paths,test_size=0.2,random_state=42)\n",
    "\n",
    "train_dataset = CustomDataset(image_dir, label_dir, transform=tranform, partition=(0, len(train_paths)))\n",
    "test_dataset = CustomDataset(image_dir, label_dir, transform=validation_transforms, partition=(len(train_paths), len(dataset.image_paths)))\n",
    "\n",
    "train_loader = DataLoader(train_dataset, batch_size=64, shuffle=True, num_workers=0,pin_memory=True)\n",
    "test_loader = DataLoader(test_dataset, batch_size=64, shuffle=False, num_workers=0,pin_memory=True)\n",
    "'''"
   ]
  },
  {
   "cell_type": "code",
   "execution_count": 239,
   "metadata": {},
   "outputs": [
    {
     "name": "stdout",
     "output_type": "stream",
     "text": [
      "[0. 0. 0. 0. 0. 0. 0. 0. 0.]\n"
     ]
    }
   ],
   "source": [
    "# 首先，获取所有的标签\n",
    "all_labels = []\n",
    "for idx in range(len(dataset)):\n",
    "    _, labels = dataset[idx]\n",
    "    all_labels.append(labels.numpy())\n",
    "\n",
    "all_labels = np.vstack(all_labels)\n",
    "\n",
    "\n",
    "#test\n",
    "print(all_labels[1])\n",
    "\n",
    "# 获取正样本和负样本的索引\n",
    "positive_indices = np.where(all_labels.sum(axis=1) > 0)[0]\n",
    "negative_indices = np.where(all_labels.sum(axis=1) == 0)[0]\n",
    "\n",
    "# 设置负样本与正样本的比例\n",
    "negative_sample_size = len(positive_indices) // 2\n",
    "\n",
    "# 如果负样本数量少于需要的样本数量，则使用全部负样本\n",
    "if len(negative_indices) < negative_sample_size:\n",
    "    negative_sample_size = len(negative_indices)\n",
    "\n",
    "# 随机选择负样本索引\n",
    "np.random.seed(42)  # 固定随机种子，保证结果可复现\n",
    "selected_negative_indices = np.random.choice(negative_indices, size=negative_sample_size, replace=False)\n",
    "\n",
    "# 合并正样本和欠采样后的负样本索引\n",
    "balanced_indices = np.concatenate([positive_indices, selected_negative_indices])\n"
   ]
  },
  {
   "cell_type": "code",
   "execution_count": 240,
   "metadata": {},
   "outputs": [
    {
     "name": "stdout",
     "output_type": "stream",
     "text": [
      "[0. 0. 0. 0. 0. 0. 0. 0. 0.]\n",
      "48007\n",
      "11310\n"
     ]
    }
   ],
   "source": [
    "print(all_labels[48006])\n",
    "print(len(all_labels))\n",
    "print(len(balanced_indices))"
   ]
  },
  {
   "cell_type": "code",
   "execution_count": 241,
   "metadata": {},
   "outputs": [
    {
     "data": {
      "text/plain": [
       "'\\nfrom torch.utils.data import Subset\\n\\n# 创建平衡的训练集\\nbalanced_train_dataset = Subset(dataset, balanced_indices)\\n\\nfrom sklearn.model_selection import train_test_split\\n\\n# 将平衡的数据集划分为训练集和验证集\\ntrain_indices, val_indices = train_test_split(balanced_indices, test_size=0.2, random_state=42)\\n\\n# 创建训练集和验证集\\ntrain_dataset = Subset(dataset, train_indices)\\nval_dataset = Subset(dataset, val_indices)\\n\\nfrom torch.utils.data import DataLoader\\n\\ntrain_loader = DataLoader(train_dataset, batch_size=32, shuffle=True, num_workers=0, pin_memory=True)\\nval_loader = DataLoader(val_dataset, batch_size=32, shuffle=False, num_workers=0, pin_memory=True)\\n'"
      ]
     },
     "execution_count": 241,
     "metadata": {},
     "output_type": "execute_result"
    }
   ],
   "source": [
    "'''\n",
    "from torch.utils.data import Subset\n",
    "\n",
    "# 创建平衡的训练集\n",
    "balanced_train_dataset = Subset(dataset, balanced_indices)\n",
    "\n",
    "from sklearn.model_selection import train_test_split\n",
    "\n",
    "# 将平衡的数据集划分为训练集和验证集\n",
    "train_indices, val_indices = train_test_split(balanced_indices, test_size=0.2, random_state=42)\n",
    "\n",
    "# 创建训练集和验证集\n",
    "train_dataset = Subset(dataset, train_indices)\n",
    "val_dataset = Subset(dataset, val_indices)\n",
    "\n",
    "from torch.utils.data import DataLoader\n",
    "\n",
    "train_loader = DataLoader(train_dataset, batch_size=32, shuffle=True, num_workers=0, pin_memory=True)\n",
    "val_loader = DataLoader(val_dataset, batch_size=32, shuffle=False, num_workers=0, pin_memory=True)\n",
    "'''\n"
   ]
  },
  {
   "cell_type": "code",
   "execution_count": null,
   "metadata": {},
   "outputs": [],
   "source": [
    "from torch.utils.data import Subset\n",
    "import numpy as np\n",
    "from sklearn.model_selection import train_test_split\n",
    "\n",
    "# 假设 balanced_indices 已经定义，并且是平衡后的数据索引\n",
    "# 随机选择一半的数据进行快速验证\n",
    "np.random.shuffle(balanced_indices)\n",
    "half_indices = balanced_indices[:int(len(balanced_indices)*0.5)]     #######################################################################\n",
    "\n",
    "# 将选择的一半数据集划分为训练集和验证集\n",
    "train_indices, val_indices = train_test_split(half_indices, test_size=0.2, random_state=42)\n",
    "\n",
    "# 创建训练集和验证集\n",
    "train_dataset = Subset(dataset, train_indices)\n",
    "val_dataset = Subset(dataset, val_indices)\n",
    "\n",
    "# 创建 DataLoader\n",
    "train_loader = DataLoader(train_dataset, batch_size=32, shuffle=True, num_workers=0, pin_memory=True)\n",
    "val_loader = DataLoader(val_dataset, batch_size=32, shuffle=False, num_workers=0, pin_memory=True)\n"
   ]
  },
  {
   "cell_type": "code",
   "execution_count": 243,
   "metadata": {},
   "outputs": [
    {
     "name": "stdout",
     "output_type": "stream",
     "text": [
      "9048\n",
      "9048\n"
     ]
    }
   ],
   "source": [
    "print(len(train_dataset))\n",
    "print(len(train_indices))"
   ]
  },
  {
   "cell_type": "code",
   "execution_count": 244,
   "metadata": {},
   "outputs": [
    {
     "name": "stdout",
     "output_type": "stream",
     "text": [
      "283\n",
      "Positive label ratios: [0.12422635 0.09825376 0.18236074 0.15904067 0.08863837 0.07736516\n",
      " 0.04840849 0.17628205 0.26912025]\n"
     ]
    }
   ],
   "source": [
    "\n",
    "# 观察正负样本比例\n",
    "label_counter = 0\n",
    "all_labels = []\n",
    "for _, labels in train_loader:\n",
    "    all_labels.append(labels.numpy())\n",
    "    label_counter += 1\n",
    "\n",
    "print(label_counter)\n",
    "all_labels = np.vstack(all_labels)\n",
    "positive_ratio = all_labels.mean(axis=0)\n",
    "print(f\"Positive label ratios: {positive_ratio}\")\n"
   ]
  },
  {
   "cell_type": "code",
   "execution_count": 245,
   "metadata": {},
   "outputs": [
    {
     "data": {
      "image/png": "[encoded data removed]",
      "text/plain": [
       "<Figure size 432x288 with 1 Axes>"
      ]
     },
     "metadata": {
      "needs_background": "light"
     },
     "output_type": "display_data"
    }
   ],
   "source": [
    "def view_sample(sample_index,dataset):    # 从数据集中获取一个样本\n",
    "  \n",
    "    image, labels = dataset[sample_index]  # 调用 __getitem__ 获取图像和标签\n",
    "\n",
    "    # 将图像从张量转换为可显示的格式\n",
    "    import matplotlib.pyplot as plt\n",
    "    import numpy as np\n",
    "\n",
    "    # 将张量转换为 NumPy 格式，并反归一化以恢复原始像素值\n",
    "    def unnormalize(tensor):\n",
    "        mean = np.array([0.0234, 0.0241, 0.0240])  # 和 Normalize 中的 mean 相同\n",
    "        std = np.array([0.0071, 0.0062, 0.0066])   # 和 Normalize 中的 std 相同\n",
    "        tensor = tensor.cpu().numpy().transpose(1, 2, 0)  # 转为 HWC 格式\n",
    "        return np.clip((tensor * std) + mean, 0, 1)  # 反归一化并裁剪到 [0, 1] 范围\n",
    "\n",
    "    # 可视化样本\n",
    "    plt.imshow(unnormalize(image))\n",
    "    plt.title(f\"Labels: {labels.cpu().numpy()}\")\n",
    "    plt.axis('off')\n",
    "    plt.show()\n",
    "\n",
    "view_sample(1,dataset)"
   ]
  },
  {
   "cell_type": "code",
   "execution_count": 3,
   "metadata": {},
   "outputs": [
    {
     "name": "stdout",
     "output_type": "stream",
     "text": [
      "Total parameters: 811529\n"
     ]
    }
   ],
   "source": [
    "import torch\n",
    "import torch.nn as nn\n",
    "import torch.nn.functional as F\n",
    "\n",
    "class ResidualBlock(nn.Module):\n",
    "    def __init__(self, in_channels, out_channels, stride=1):\n",
    "        super(ResidualBlock, self).__init__()\n",
    "        self.conv1 = nn.Conv2d(in_channels, out_channels, kernel_size=3, stride=stride, padding=1, bias=False)\n",
    "        self.bn1 = nn.BatchNorm2d(out_channels)\n",
    "        self.conv2 = nn.Conv2d(out_channels, out_channels, kernel_size=3, stride=1, padding=1, bias=False)\n",
    "        self.bn2 = nn.BatchNorm2d(out_channels)\n",
    "        self.shortcut = nn.Sequential()\n",
    "        if stride != 1 or in_channels != out_channels:\n",
    "            self.shortcut = nn.Sequential(\n",
    "                nn.Conv2d(in_channels, out_channels, kernel_size=1, stride=stride, bias=False),\n",
    "                nn.BatchNorm2d(out_channels)\n",
    "            )\n",
    "\n",
    "    def forward(self, x):\n",
    "        out = F.relu(self.bn1(self.conv1(x)))\n",
    "        out = self.bn2(self.conv2(out))\n",
    "        out += self.shortcut(x)\n",
    "        out = F.relu(out)\n",
    "        return out\n",
    "\n",
    "class SmallResNet(nn.Module):\n",
    "    def __init__(self, num_classes=9):\n",
    "        super(SmallResNet, self).__init__()\n",
    "        self.initial = nn.Sequential(\n",
    "            nn.Conv2d(3, 32, kernel_size=3, stride=1, padding=1, bias=False),\n",
    "            nn.BatchNorm2d(16),\n",
    "            nn.ReLU()\n",
    "        )\n",
    "        # Reduced number of channels\n",
    "        self.layer1 = self._make_layer(ResidualBlock, 32, 64, stride=2)\n",
    "        self.layer2 = self._make_layer(ResidualBlock, 64, 64, stride=2)\n",
    "        self.layer3 = self._make_layer(ResidualBlock, 64, 128, stride=2)\n",
    "        self.global_avg_pool = nn.AdaptiveAvgPool2d((1, 1))\n",
    "        self.fc = nn.Linear(128, num_classes)  # Reduced input size\n",
    "\n",
    "    def _make_layer(self, block, in_channels, out_channels, stride):\n",
    "        layers = []\n",
    "        layers.append(block(in_channels, out_channels, stride))\n",
    "        layers.append(block(out_channels, out_channels, stride=1))\n",
    "        return nn.Sequential(*layers)\n",
    "\n",
    "    def forward(self, x):\n",
    "        x = self.initial(x)\n",
    "        x = self.layer1(x)\n",
    "        x = self.layer2(x)\n",
    "        x = self.layer3(x)\n",
    "        x = self.global_avg_pool(x)\n",
    "        x = torch.flatten(x, 1)\n",
    "        x = self.fc(x)\n",
    "        return x\n",
    "\n",
    "# 实例化模型\n",
    "device = torch.device(\"cuda\" if torch.cuda.is_available() else \"cpu\")\n",
    "model_a = SmallResNet(num_classes=9).to(device)\n",
    "\n",
    "# 查看参数量\n",
    "total_params = sum(p.numel() for p in model_a.parameters() if p.requires_grad)\n",
    "print(f\"Total parameters: {total_params}\")\n"
   ]
  },
  {
   "cell_type": "code",
   "execution_count": 250,
   "metadata": {},
   "outputs": [],
   "source": [
    "class ModelC(nn.Module):\n",
    "    def __init__(self):\n",
    "        super(ModelC, self).__init__()\n",
    "        self.features = nn.Sequential(\n",
    "            # Block 1\n",
    "            nn.Conv2d(3, 32, kernel_size=5, stride=2, padding=2),\n",
    "            nn.ReLU(),\n",
    "            nn.MaxPool2d(kernel_size=3, stride=2),\n",
    "\n",
    "            # Block 2\n",
    "            nn.Conv2d(32, 64, kernel_size=5, stride=2, padding=2),\n",
    "            nn.ReLU(),\n",
    "            nn.MaxPool2d(kernel_size=3, stride=2),\n",
    "        )\n",
    "        \n",
    "        self.classifier = nn.Sequential(\n",
    "            nn.Flatten(),\n",
    "            nn.Linear(64 * 7 * 7, 256),\n",
    "            nn.ReLU(),\n",
    "            nn.Linear(256, 9),\n",
    "            nn.Dropout(0.5)\n",
    "        )\n",
    "        \n",
    "    def forward(self, x):\n",
    "        x = self.features(x)\n",
    "        x = self.classifier(x)\n",
    "        return x\n",
    "\n",
    "model_c = ModelC().to(device)"
   ]
  },
  {
   "cell_type": "code",
   "execution_count": 251,
   "metadata": {},
   "outputs": [],
   "source": [
    "#处理不平衡的数据\n",
    "pos_weight = (1 - positive_ratio) / positive_ratio\n",
    "pos_weight = torch.tensor(pos_weight, dtype=torch.float32).to(device)\n",
    "\n",
    "criterion_a = nn.BCEWithLogitsLoss(pos_weight=pos_weight) #why\n",
    "\n",
    "optimizer_a = optim.AdamW(model_a.parameters(), lr=1e-4, weight_decay=1e-2) \n",
    "\n",
    "scheduler_a = optim.lr_scheduler.ReduceLROnPlateau(optimizer_a, mode='max',patience=5,factor=0.5,verbose=True)\n"
   ]
  },
  {
   "cell_type": "code",
   "execution_count": 253,
   "metadata": {},
   "outputs": [],
   "source": [
    "import numpy as np\n",
    "from sklearn.metrics import f1_score\n",
    "\n",
    "def find_best_thresholds(y_true, y_pred):\n",
    "    best_thresholds = []\n",
    "    for i in range(y_true.shape[1]):  # 对每个类别进行循环\n",
    "        best_thresh = 0.5\n",
    "        best_f1 = 0.0\n",
    "        for thresh in np.arange(0.5, 0.95, 0.05):  # 遍历可能的阈值\n",
    "            preds_binary = (y_pred[:, i] > thresh).astype(int)\n",
    "            f1 = f1_score(y_true[:, i], preds_binary)\n",
    "            if f1 > best_f1:\n",
    "                best_f1 = f1\n",
    "                best_thresh = thresh\n",
    "        best_thresholds.append(best_thresh)\n",
    "    return best_thresholds\n"
   ]
  },
  {
   "cell_type": "code",
   "execution_count": 254,
   "metadata": {},
   "outputs": [],
   "source": [
    "\n",
    "from tqdm import tqdm\n",
    "from torch.cuda.amp import autocast, GradScaler\n",
    "from sklearn.metrics import f1_score\n",
    "\n",
    "\n",
    "def train(model, dataloader, criterion, optimizer):\n",
    "    model.train()\n",
    "    running_loss = 0.0\n",
    "    all_labels = []\n",
    "    all_preds = []\n",
    "\n",
    "    for inputs, labels in tqdm(dataloader, desc=\"Training\", leave=False):\n",
    "        inputs, labels = inputs.to(device), labels.to(device)\n",
    "\n",
    "        # 确保labels是张量\n",
    "        if not isinstance(labels, torch.Tensor):\n",
    "            labels = torch.tensor(labels, dtype=torch.float32, device=device)\n",
    "\n",
    "        optimizer.zero_grad()\n",
    "\n",
    "        with autocast():\n",
    "            outputs = model(inputs)\n",
    "            loss = criterion(outputs, labels)\n",
    "\n",
    "        scaler.scale(loss).backward()\n",
    "        scaler.step(optimizer)\n",
    "        scaler.update()\n",
    "\n",
    "        running_loss += loss.item() * inputs.size(0)\n",
    "        preds = torch.sigmoid(outputs).detach().cpu().numpy()\n",
    "        all_preds.append(preds)\n",
    "        all_labels.append(labels.cpu().numpy())\n",
    "\n",
    "    epoch_loss = running_loss / len(dataloader.dataset)\n",
    "    all_preds = np.vstack(all_preds)\n",
    "    all_labels = np.vstack(all_labels)\n",
    "\n",
    "    preds_binary = (all_preds > 0.5).astype(int)\n",
    "    epoch_f1 = f1_score(all_labels, preds_binary, average='macro')\n",
    "\n",
    "    return epoch_loss, epoch_f1\n"
   ]
  },
  {
   "cell_type": "code",
   "execution_count": 255,
   "metadata": {},
   "outputs": [],
   "source": [
    "from sklearn.metrics import f1_score\n",
    "\n",
    "def validate(model, dataloader, criterion):\n",
    "    model.eval()\n",
    "    running_loss = 0.0\n",
    "    all_labels = []\n",
    "    all_preds = []\n",
    "\n",
    "    validate_loader_tqdm = tqdm(dataloader, desc=\"Validating\", leave=False)\n",
    "    with torch.no_grad():\n",
    "        for inputs, labels in validate_loader_tqdm:\n",
    "            inputs = inputs.to(device)\n",
    "            labels = labels.to(device)\n",
    "\n",
    "            outputs = model(inputs)\n",
    "            loss = criterion(outputs, labels)\n",
    "\n",
    "            running_loss += loss.item() * inputs.size(0)\n",
    "\n",
    "            preds = torch.sigmoid(outputs).cpu().numpy()\n",
    "            all_preds.append(preds)\n",
    "            all_labels.append(labels.cpu().numpy())\n",
    "\n",
    "    epoch_loss = running_loss / len(dataloader.dataset)\n",
    "    all_preds = np.vstack(all_preds)\n",
    "    all_labels = np.vstack(all_labels)\n",
    "\n",
    "    # 计算每个类别的最佳阈值和 F1 分数\n",
    "    best_thresholds = find_best_thresholds(all_labels, all_preds)\n",
    "    best_f1_scores = []\n",
    "\n",
    "    for i in range(all_labels.shape[1]):  # 遍历每个类别\n",
    "        threshold = best_thresholds[i]\n",
    "        preds_binary = (all_preds[:, i] > threshold).astype(int)\n",
    "        f1 = f1_score(all_labels[:, i], preds_binary)\n",
    "        best_f1_scores.append(f1)\n",
    "\n",
    "    # 打印每个类别的最佳阈值和 F1 分数\n",
    "    for i in range(len(best_f1_scores)):\n",
    "        print(f'Class {i}: Best Threshold: {best_thresholds[i]:.2f}, F1 Score: {best_f1_scores[i]:.4f}')\n",
    "\n",
    "    print(f'Validation Loss: {epoch_loss:.4f}')\n",
    "\n",
    "    # 返回整体验证损失，每类的最佳阈值，每类的 F1 分数，和所有预测\n",
    "    return epoch_loss, best_thresholds, best_f1_scores, all_preds\n",
    "\n"
   ]
  },
  {
   "cell_type": "code",
   "execution_count": 259,
   "metadata": {},
   "outputs": [
    {
     "name": "stdout",
     "output_type": "stream",
     "text": [
      "Epoch 1/100\n",
      "----------\n"
     ]
    },
    {
     "name": "stderr",
     "output_type": "stream",
     "text": [
      "                                                           \r"
     ]
    },
    {
     "name": "stdout",
     "output_type": "stream",
     "text": [
      "Train Loss: 1.1184, F1 Score: 0.2916\n"
     ]
    },
    {
     "name": "stderr",
     "output_type": "stream",
     "text": [
      "                                                           \r"
     ]
    },
    {
     "name": "stdout",
     "output_type": "stream",
     "text": [
      "Class 0: Best Threshold: 0.50, F1 Score: 0.3140\n",
      "Class 1: Best Threshold: 0.60, F1 Score: 0.3723\n",
      "Class 2: Best Threshold: 0.50, F1 Score: 0.3786\n",
      "Class 3: Best Threshold: 0.50, F1 Score: 0.5213\n",
      "Class 4: Best Threshold: 0.50, F1 Score: 0.4171\n",
      "Class 5: Best Threshold: 0.50, F1 Score: 0.3397\n",
      "Class 6: Best Threshold: 0.50, F1 Score: 0.2211\n",
      "Class 7: Best Threshold: 0.50, F1 Score: 0.3333\n",
      "Class 8: Best Threshold: 0.50, F1 Score: 0.5798\n",
      "Validation Loss: 1.0667\n",
      "current avg f1: 0.3863\n",
      "Best model saved.\n",
      "Epoch 2/100\n",
      "----------\n"
     ]
    },
    {
     "name": "stderr",
     "output_type": "stream",
     "text": [
      "                                                           \r"
     ]
    },
    {
     "name": "stdout",
     "output_type": "stream",
     "text": [
      "Train Loss: 1.0270, F1 Score: 0.3481\n"
     ]
    },
    {
     "name": "stderr",
     "output_type": "stream",
     "text": [
      "                                                           \r"
     ]
    },
    {
     "name": "stdout",
     "output_type": "stream",
     "text": [
      "Class 0: Best Threshold: 0.60, F1 Score: 0.3293\n",
      "Class 1: Best Threshold: 0.75, F1 Score: 0.3678\n",
      "Class 2: Best Threshold: 0.80, F1 Score: 0.4398\n",
      "Class 3: Best Threshold: 0.85, F1 Score: 0.5212\n",
      "Class 4: Best Threshold: 0.90, F1 Score: 0.4680\n",
      "Class 5: Best Threshold: 0.90, F1 Score: 0.3699\n",
      "Class 6: Best Threshold: 0.85, F1 Score: 0.2552\n",
      "Class 7: Best Threshold: 0.50, F1 Score: 0.3672\n",
      "Class 8: Best Threshold: 0.85, F1 Score: 0.5991\n",
      "Validation Loss: 1.2611\n",
      "current avg f1: 0.4131\n",
      "Best model saved.\n",
      "Epoch 3/100\n",
      "----------\n"
     ]
    },
    {
     "name": "stderr",
     "output_type": "stream",
     "text": [
      "                                                           \r"
     ]
    },
    {
     "name": "stdout",
     "output_type": "stream",
     "text": [
      "Train Loss: 0.9734, F1 Score: 0.3810\n"
     ]
    },
    {
     "name": "stderr",
     "output_type": "stream",
     "text": [
      "                                                           \r"
     ]
    },
    {
     "name": "stdout",
     "output_type": "stream",
     "text": [
      "Class 0: Best Threshold: 0.60, F1 Score: 0.3619\n",
      "Class 1: Best Threshold: 0.50, F1 Score: 0.4467\n",
      "Class 2: Best Threshold: 0.50, F1 Score: 0.4778\n",
      "Class 3: Best Threshold: 0.50, F1 Score: 0.3448\n",
      "Class 4: Best Threshold: 0.50, F1 Score: 0.4258\n",
      "Class 5: Best Threshold: 0.50, F1 Score: 0.3264\n",
      "Class 6: Best Threshold: 0.65, F1 Score: 0.3087\n",
      "Class 7: Best Threshold: 0.50, F1 Score: 0.3611\n",
      "Class 8: Best Threshold: 0.50, F1 Score: 0.3140\n",
      "Validation Loss: 1.0747\n",
      "current avg f1: 0.3741\n",
      "No improvement for 1 epoch(s).\n",
      "Epoch 4/100\n",
      "----------\n"
     ]
    },
    {
     "name": "stderr",
     "output_type": "stream",
     "text": [
      "                                                           \r"
     ]
    },
    {
     "name": "stdout",
     "output_type": "stream",
     "text": [
      "Train Loss: 0.9308, F1 Score: 0.4048\n"
     ]
    },
    {
     "name": "stderr",
     "output_type": "stream",
     "text": [
      "                                                           \r"
     ]
    },
    {
     "name": "stdout",
     "output_type": "stream",
     "text": [
      "Class 0: Best Threshold: 0.60, F1 Score: 0.4594\n",
      "Class 1: Best Threshold: 0.65, F1 Score: 0.4636\n",
      "Class 2: Best Threshold: 0.50, F1 Score: 0.4963\n",
      "Class 3: Best Threshold: 0.70, F1 Score: 0.5450\n",
      "Class 4: Best Threshold: 0.70, F1 Score: 0.5381\n",
      "Class 5: Best Threshold: 0.65, F1 Score: 0.4657\n",
      "Class 6: Best Threshold: 0.65, F1 Score: 0.2822\n",
      "Class 7: Best Threshold: 0.55, F1 Score: 0.4653\n",
      "Class 8: Best Threshold: 0.60, F1 Score: 0.6251\n",
      "Validation Loss: 0.9085\n",
      "current avg f1: 0.4823\n",
      "Best model saved.\n",
      "Epoch 5/100\n",
      "----------\n"
     ]
    },
    {
     "name": "stderr",
     "output_type": "stream",
     "text": [
      "                                                           \r"
     ]
    },
    {
     "name": "stdout",
     "output_type": "stream",
     "text": [
      "Train Loss: 0.8969, F1 Score: 0.4254\n"
     ]
    },
    {
     "name": "stderr",
     "output_type": "stream",
     "text": [
      "                                                           \r"
     ]
    },
    {
     "name": "stdout",
     "output_type": "stream",
     "text": [
      "Class 0: Best Threshold: 0.60, F1 Score: 0.4506\n",
      "Class 1: Best Threshold: 0.70, F1 Score: 0.5000\n",
      "Class 2: Best Threshold: 0.90, F1 Score: 0.5287\n",
      "Class 3: Best Threshold: 0.85, F1 Score: 0.5269\n",
      "Class 4: Best Threshold: 0.90, F1 Score: 0.3283\n",
      "Class 5: Best Threshold: 0.90, F1 Score: 0.3465\n",
      "Class 6: Best Threshold: 0.90, F1 Score: 0.2812\n",
      "Class 7: Best Threshold: 0.50, F1 Score: 0.4659\n",
      "Class 8: Best Threshold: 0.90, F1 Score: 0.5667\n",
      "Validation Loss: 1.2859\n",
      "current avg f1: 0.4439\n",
      "No improvement for 1 epoch(s).\n",
      "Epoch 6/100\n",
      "----------\n"
     ]
    },
    {
     "name": "stderr",
     "output_type": "stream",
     "text": [
      "                                                           \r"
     ]
    },
    {
     "name": "stdout",
     "output_type": "stream",
     "text": [
      "Train Loss: 0.8666, F1 Score: 0.4394\n"
     ]
    },
    {
     "name": "stderr",
     "output_type": "stream",
     "text": [
      "                                                           \r"
     ]
    },
    {
     "name": "stdout",
     "output_type": "stream",
     "text": [
      "Class 0: Best Threshold: 0.80, F1 Score: 0.4255\n",
      "Class 1: Best Threshold: 0.65, F1 Score: 0.5122\n",
      "Class 2: Best Threshold: 0.50, F1 Score: 0.5665\n",
      "Class 3: Best Threshold: 0.50, F1 Score: 0.5833\n",
      "Class 4: Best Threshold: 0.55, F1 Score: 0.5787\n",
      "Class 5: Best Threshold: 0.75, F1 Score: 0.4890\n",
      "Class 6: Best Threshold: 0.90, F1 Score: 0.4093\n",
      "Class 7: Best Threshold: 0.55, F1 Score: 0.4580\n",
      "Class 8: Best Threshold: 0.50, F1 Score: 0.6245\n",
      "Validation Loss: 0.8487\n",
      "current avg f1: 0.5163\n",
      "Best model saved.\n",
      "Epoch 7/100\n",
      "----------\n"
     ]
    },
    {
     "name": "stderr",
     "output_type": "stream",
     "text": [
      "                                                           \r"
     ]
    },
    {
     "name": "stdout",
     "output_type": "stream",
     "text": [
      "Train Loss: 0.8435, F1 Score: 0.4536\n"
     ]
    },
    {
     "name": "stderr",
     "output_type": "stream",
     "text": [
      "                                                           \r"
     ]
    },
    {
     "name": "stdout",
     "output_type": "stream",
     "text": [
      "Class 0: Best Threshold: 0.50, F1 Score: 0.4121\n",
      "Class 1: Best Threshold: 0.75, F1 Score: 0.5045\n",
      "Class 2: Best Threshold: 0.70, F1 Score: 0.5775\n",
      "Class 3: Best Threshold: 0.70, F1 Score: 0.5756\n",
      "Class 4: Best Threshold: 0.70, F1 Score: 0.6080\n",
      "Class 5: Best Threshold: 0.60, F1 Score: 0.5289\n",
      "Class 6: Best Threshold: 0.65, F1 Score: 0.4747\n",
      "Class 7: Best Threshold: 0.50, F1 Score: 0.4882\n",
      "Class 8: Best Threshold: 0.65, F1 Score: 0.6671\n",
      "Validation Loss: 0.8376\n",
      "current avg f1: 0.5374\n",
      "Best model saved.\n",
      "Epoch 8/100\n",
      "----------\n"
     ]
    },
    {
     "name": "stderr",
     "output_type": "stream",
     "text": [
      "                                                           \r"
     ]
    },
    {
     "name": "stdout",
     "output_type": "stream",
     "text": [
      "Train Loss: 0.8087, F1 Score: 0.4706\n"
     ]
    },
    {
     "name": "stderr",
     "output_type": "stream",
     "text": [
      "                                                           \r"
     ]
    },
    {
     "name": "stdout",
     "output_type": "stream",
     "text": [
      "Class 0: Best Threshold: 0.70, F1 Score: 0.5009\n",
      "Class 1: Best Threshold: 0.55, F1 Score: 0.5137\n",
      "Class 2: Best Threshold: 0.50, F1 Score: 0.4796\n",
      "Class 3: Best Threshold: 0.50, F1 Score: 0.5747\n",
      "Class 4: Best Threshold: 0.50, F1 Score: 0.5639\n",
      "Class 5: Best Threshold: 0.50, F1 Score: 0.5100\n",
      "Class 6: Best Threshold: 0.50, F1 Score: 0.3716\n",
      "Class 7: Best Threshold: 0.50, F1 Score: 0.4607\n",
      "Class 8: Best Threshold: 0.50, F1 Score: 0.6374\n",
      "Validation Loss: 0.9050\n",
      "current avg f1: 0.5125\n",
      "No improvement for 1 epoch(s).\n",
      "Epoch 9/100\n",
      "----------\n"
     ]
    },
    {
     "name": "stderr",
     "output_type": "stream",
     "text": [
      "                                                           \r"
     ]
    },
    {
     "name": "stdout",
     "output_type": "stream",
     "text": [
      "Train Loss: 0.7892, F1 Score: 0.4807\n"
     ]
    },
    {
     "name": "stderr",
     "output_type": "stream",
     "text": [
      "                                                           \r"
     ]
    },
    {
     "name": "stdout",
     "output_type": "stream",
     "text": [
      "Class 0: Best Threshold: 0.80, F1 Score: 0.4591\n",
      "Class 1: Best Threshold: 0.80, F1 Score: 0.4858\n",
      "Class 2: Best Threshold: 0.85, F1 Score: 0.5169\n",
      "Class 3: Best Threshold: 0.90, F1 Score: 0.5453\n",
      "Class 4: Best Threshold: 0.90, F1 Score: 0.4281\n",
      "Class 5: Best Threshold: 0.90, F1 Score: 0.3968\n",
      "Class 6: Best Threshold: 0.90, F1 Score: 0.3128\n",
      "Class 7: Best Threshold: 0.55, F1 Score: 0.5005\n",
      "Class 8: Best Threshold: 0.75, F1 Score: 0.6485\n",
      "Validation Loss: 1.0709\n",
      "current avg f1: 0.4771\n",
      "No improvement for 2 epoch(s).\n",
      "Epoch 10/100\n",
      "----------\n"
     ]
    },
    {
     "name": "stderr",
     "output_type": "stream",
     "text": [
      "                                                           \r"
     ]
    },
    {
     "name": "stdout",
     "output_type": "stream",
     "text": [
      "Train Loss: 0.7525, F1 Score: 0.5012\n"
     ]
    },
    {
     "name": "stderr",
     "output_type": "stream",
     "text": [
      "                                                           \r"
     ]
    },
    {
     "name": "stdout",
     "output_type": "stream",
     "text": [
      "Class 0: Best Threshold: 0.80, F1 Score: 0.4708\n",
      "Class 1: Best Threshold: 0.80, F1 Score: 0.5508\n",
      "Class 2: Best Threshold: 0.50, F1 Score: 0.5017\n",
      "Class 3: Best Threshold: 0.60, F1 Score: 0.5745\n",
      "Class 4: Best Threshold: 0.70, F1 Score: 0.5554\n",
      "Class 5: Best Threshold: 0.90, F1 Score: 0.4792\n",
      "Class 6: Best Threshold: 0.90, F1 Score: 0.4237\n",
      "Class 7: Best Threshold: 0.50, F1 Score: 0.4474\n",
      "Class 8: Best Threshold: 0.50, F1 Score: 0.6582\n",
      "Validation Loss: 0.8128\n",
      "current avg f1: 0.5180\n",
      "No improvement for 3 epoch(s).\n",
      "Epoch 11/100\n",
      "----------\n"
     ]
    },
    {
     "name": "stderr",
     "output_type": "stream",
     "text": [
      "                                                           \r"
     ]
    },
    {
     "name": "stdout",
     "output_type": "stream",
     "text": [
      "Train Loss: 0.7252, F1 Score: 0.5183\n"
     ]
    },
    {
     "name": "stderr",
     "output_type": "stream",
     "text": [
      "                                                           \r"
     ]
    },
    {
     "name": "stdout",
     "output_type": "stream",
     "text": [
      "Class 0: Best Threshold: 0.50, F1 Score: 0.3909\n",
      "Class 1: Best Threshold: 0.90, F1 Score: 0.5509\n",
      "Class 2: Best Threshold: 0.50, F1 Score: 0.6283\n",
      "Class 3: Best Threshold: 0.75, F1 Score: 0.5512\n",
      "Class 4: Best Threshold: 0.50, F1 Score: 0.5813\n",
      "Class 5: Best Threshold: 0.50, F1 Score: 0.4534\n",
      "Class 6: Best Threshold: 0.55, F1 Score: 0.4195\n",
      "Class 7: Best Threshold: 0.50, F1 Score: 0.4904\n",
      "Class 8: Best Threshold: 0.70, F1 Score: 0.6571\n",
      "Validation Loss: 0.9906\n",
      "current avg f1: 0.5248\n",
      "No improvement for 4 epoch(s).\n",
      "Epoch 12/100\n",
      "----------\n"
     ]
    },
    {
     "name": "stderr",
     "output_type": "stream",
     "text": [
      "                                                           \r"
     ]
    },
    {
     "name": "stdout",
     "output_type": "stream",
     "text": [
      "Train Loss: 0.6979, F1 Score: 0.5344\n"
     ]
    },
    {
     "name": "stderr",
     "output_type": "stream",
     "text": [
      "                                                           \r"
     ]
    },
    {
     "name": "stdout",
     "output_type": "stream",
     "text": [
      "Class 0: Best Threshold: 0.65, F1 Score: 0.4841\n",
      "Class 1: Best Threshold: 0.75, F1 Score: 0.5547\n",
      "Class 2: Best Threshold: 0.60, F1 Score: 0.5891\n",
      "Class 3: Best Threshold: 0.70, F1 Score: 0.5438\n",
      "Class 4: Best Threshold: 0.80, F1 Score: 0.6000\n",
      "Class 5: Best Threshold: 0.85, F1 Score: 0.5579\n",
      "Class 6: Best Threshold: 0.85, F1 Score: 0.4355\n",
      "Class 7: Best Threshold: 0.65, F1 Score: 0.5053\n",
      "Class 8: Best Threshold: 0.60, F1 Score: 0.6568\n",
      "Validation Loss: 0.8377\n",
      "current avg f1: 0.5475\n",
      "Best model saved.\n",
      "Epoch 13/100\n",
      "----------\n"
     ]
    },
    {
     "name": "stderr",
     "output_type": "stream",
     "text": [
      "                                                           \r"
     ]
    },
    {
     "name": "stdout",
     "output_type": "stream",
     "text": [
      "Train Loss: 0.6744, F1 Score: 0.5470\n"
     ]
    },
    {
     "name": "stderr",
     "output_type": "stream",
     "text": [
      "                                                           \r"
     ]
    },
    {
     "name": "stdout",
     "output_type": "stream",
     "text": [
      "Class 0: Best Threshold: 0.85, F1 Score: 0.5037\n",
      "Class 1: Best Threshold: 0.70, F1 Score: 0.5721\n",
      "Class 2: Best Threshold: 0.55, F1 Score: 0.5802\n",
      "Class 3: Best Threshold: 0.60, F1 Score: 0.5703\n",
      "Class 4: Best Threshold: 0.70, F1 Score: 0.5904\n",
      "Class 5: Best Threshold: 0.85, F1 Score: 0.5318\n",
      "Class 6: Best Threshold: 0.80, F1 Score: 0.3871\n",
      "Class 7: Best Threshold: 0.70, F1 Score: 0.5311\n",
      "Class 8: Best Threshold: 0.50, F1 Score: 0.6492\n",
      "Validation Loss: 0.7945\n",
      "current avg f1: 0.5462\n",
      "No improvement for 1 epoch(s).\n",
      "Epoch 14/100\n",
      "----------\n"
     ]
    },
    {
     "name": "stderr",
     "output_type": "stream",
     "text": [
      "                                                           \r"
     ]
    },
    {
     "name": "stdout",
     "output_type": "stream",
     "text": [
      "Train Loss: 0.6447, F1 Score: 0.5634\n"
     ]
    },
    {
     "name": "stderr",
     "output_type": "stream",
     "text": [
      "                                                           \r"
     ]
    },
    {
     "name": "stdout",
     "output_type": "stream",
     "text": [
      "Class 0: Best Threshold: 0.55, F1 Score: 0.4761\n",
      "Class 1: Best Threshold: 0.85, F1 Score: 0.6000\n",
      "Class 2: Best Threshold: 0.50, F1 Score: 0.5962\n",
      "Class 3: Best Threshold: 0.75, F1 Score: 0.5650\n",
      "Class 4: Best Threshold: 0.80, F1 Score: 0.6206\n",
      "Class 5: Best Threshold: 0.80, F1 Score: 0.5374\n",
      "Class 6: Best Threshold: 0.90, F1 Score: 0.4525\n",
      "Class 7: Best Threshold: 0.55, F1 Score: 0.5343\n",
      "Class 8: Best Threshold: 0.65, F1 Score: 0.6662\n",
      "Validation Loss: 0.7588\n",
      "current avg f1: 0.5609\n",
      "Best model saved.\n",
      "Epoch 15/100\n",
      "----------\n"
     ]
    },
    {
     "name": "stderr",
     "output_type": "stream",
     "text": [
      "                                                           \r"
     ]
    },
    {
     "name": "stdout",
     "output_type": "stream",
     "text": [
      "Train Loss: 0.6230, F1 Score: 0.5743\n"
     ]
    },
    {
     "name": "stderr",
     "output_type": "stream",
     "text": [
      "                                                           \r"
     ]
    },
    {
     "name": "stdout",
     "output_type": "stream",
     "text": [
      "Class 0: Best Threshold: 0.85, F1 Score: 0.4846\n",
      "Class 1: Best Threshold: 0.60, F1 Score: 0.5625\n",
      "Class 2: Best Threshold: 0.85, F1 Score: 0.5620\n",
      "Class 3: Best Threshold: 0.50, F1 Score: 0.5831\n",
      "Class 4: Best Threshold: 0.90, F1 Score: 0.5974\n",
      "Class 5: Best Threshold: 0.90, F1 Score: 0.4965\n",
      "Class 6: Best Threshold: 0.90, F1 Score: 0.3396\n",
      "Class 7: Best Threshold: 0.85, F1 Score: 0.4977\n",
      "Class 8: Best Threshold: 0.50, F1 Score: 0.6279\n",
      "Validation Loss: 0.9103\n",
      "current avg f1: 0.5279\n",
      "No improvement for 1 epoch(s).\n",
      "Epoch 16/100\n",
      "----------\n"
     ]
    },
    {
     "name": "stderr",
     "output_type": "stream",
     "text": [
      "                                                           \r"
     ]
    },
    {
     "name": "stdout",
     "output_type": "stream",
     "text": [
      "Train Loss: 0.6025, F1 Score: 0.5874\n"
     ]
    },
    {
     "name": "stderr",
     "output_type": "stream",
     "text": [
      "                                                           \r"
     ]
    },
    {
     "name": "stdout",
     "output_type": "stream",
     "text": [
      "Class 0: Best Threshold: 0.50, F1 Score: 0.4934\n",
      "Class 1: Best Threshold: 0.75, F1 Score: 0.5345\n",
      "Class 2: Best Threshold: 0.50, F1 Score: 0.6113\n",
      "Class 3: Best Threshold: 0.85, F1 Score: 0.5642\n",
      "Class 4: Best Threshold: 0.75, F1 Score: 0.6026\n",
      "Class 5: Best Threshold: 0.85, F1 Score: 0.5201\n",
      "Class 6: Best Threshold: 0.55, F1 Score: 0.4046\n",
      "Class 7: Best Threshold: 0.50, F1 Score: 0.4114\n",
      "Class 8: Best Threshold: 0.75, F1 Score: 0.6573\n",
      "Validation Loss: 0.8293\n",
      "current avg f1: 0.5333\n",
      "No improvement for 2 epoch(s).\n",
      "Epoch 17/100\n",
      "----------\n"
     ]
    },
    {
     "name": "stderr",
     "output_type": "stream",
     "text": [
      "                                                           \r"
     ]
    },
    {
     "name": "stdout",
     "output_type": "stream",
     "text": [
      "Train Loss: 0.5832, F1 Score: 0.6003\n"
     ]
    },
    {
     "name": "stderr",
     "output_type": "stream",
     "text": [
      "                                                           \r"
     ]
    },
    {
     "name": "stdout",
     "output_type": "stream",
     "text": [
      "Class 0: Best Threshold: 0.55, F1 Score: 0.5193\n",
      "Class 1: Best Threshold: 0.55, F1 Score: 0.5802\n",
      "Class 2: Best Threshold: 0.75, F1 Score: 0.6209\n",
      "Class 3: Best Threshold: 0.50, F1 Score: 0.5722\n",
      "Class 4: Best Threshold: 0.50, F1 Score: 0.5720\n",
      "Class 5: Best Threshold: 0.50, F1 Score: 0.5146\n",
      "Class 6: Best Threshold: 0.50, F1 Score: 0.4000\n",
      "Class 7: Best Threshold: 0.60, F1 Score: 0.5592\n",
      "Class 8: Best Threshold: 0.50, F1 Score: 0.6569\n",
      "Validation Loss: 0.9001\n",
      "current avg f1: 0.5550\n",
      "No improvement for 3 epoch(s).\n",
      "Epoch 18/100\n",
      "----------\n"
     ]
    },
    {
     "name": "stderr",
     "output_type": "stream",
     "text": [
      "                                                           \r"
     ]
    },
    {
     "name": "stdout",
     "output_type": "stream",
     "text": [
      "Train Loss: 0.5673, F1 Score: 0.6072\n"
     ]
    },
    {
     "name": "stderr",
     "output_type": "stream",
     "text": [
      "                                                           \r"
     ]
    },
    {
     "name": "stdout",
     "output_type": "stream",
     "text": [
      "Class 0: Best Threshold: 0.70, F1 Score: 0.5008\n",
      "Class 1: Best Threshold: 0.70, F1 Score: 0.5820\n",
      "Class 2: Best Threshold: 0.55, F1 Score: 0.6379\n",
      "Class 3: Best Threshold: 0.50, F1 Score: 0.5738\n",
      "Class 4: Best Threshold: 0.65, F1 Score: 0.5950\n",
      "Class 5: Best Threshold: 0.65, F1 Score: 0.5370\n",
      "Class 6: Best Threshold: 0.50, F1 Score: 0.4560\n",
      "Class 7: Best Threshold: 0.65, F1 Score: 0.5486\n",
      "Class 8: Best Threshold: 0.50, F1 Score: 0.6558\n",
      "Validation Loss: 0.8038\n",
      "current avg f1: 0.5652\n",
      "Best model saved.\n",
      "Epoch 19/100\n",
      "----------\n"
     ]
    },
    {
     "name": "stderr",
     "output_type": "stream",
     "text": [
      "                                                           \r"
     ]
    },
    {
     "name": "stdout",
     "output_type": "stream",
     "text": [
      "Train Loss: 0.5435, F1 Score: 0.6216\n"
     ]
    },
    {
     "name": "stderr",
     "output_type": "stream",
     "text": [
      "                                                           \r"
     ]
    },
    {
     "name": "stdout",
     "output_type": "stream",
     "text": [
      "Class 0: Best Threshold: 0.65, F1 Score: 0.4884\n",
      "Class 1: Best Threshold: 0.75, F1 Score: 0.5495\n",
      "Class 2: Best Threshold: 0.75, F1 Score: 0.5625\n",
      "Class 3: Best Threshold: 0.90, F1 Score: 0.5239\n",
      "Class 4: Best Threshold: 0.90, F1 Score: 0.4582\n",
      "Class 5: Best Threshold: 0.90, F1 Score: 0.4569\n",
      "Class 6: Best Threshold: 0.90, F1 Score: 0.3940\n",
      "Class 7: Best Threshold: 0.50, F1 Score: 0.4356\n",
      "Class 8: Best Threshold: 0.90, F1 Score: 0.6138\n",
      "Validation Loss: 1.0863\n",
      "current avg f1: 0.4981\n",
      "No improvement for 1 epoch(s).\n",
      "Epoch 20/100\n",
      "----------\n"
     ]
    },
    {
     "name": "stderr",
     "output_type": "stream",
     "text": [
      "                                                           \r"
     ]
    },
    {
     "name": "stdout",
     "output_type": "stream",
     "text": [
      "Train Loss: 0.5350, F1 Score: 0.6212\n"
     ]
    },
    {
     "name": "stderr",
     "output_type": "stream",
     "text": [
      "                                                           \r"
     ]
    },
    {
     "name": "stdout",
     "output_type": "stream",
     "text": [
      "Class 0: Best Threshold: 0.50, F1 Score: 0.4370\n",
      "Class 1: Best Threshold: 0.90, F1 Score: 0.3974\n",
      "Class 2: Best Threshold: 0.50, F1 Score: 0.3964\n",
      "Class 3: Best Threshold: 0.80, F1 Score: 0.5140\n",
      "Class 4: Best Threshold: 0.50, F1 Score: 0.5160\n",
      "Class 5: Best Threshold: 0.50, F1 Score: 0.4847\n",
      "Class 6: Best Threshold: 0.55, F1 Score: 0.4021\n",
      "Class 7: Best Threshold: 0.65, F1 Score: 0.5164\n",
      "Class 8: Best Threshold: 0.85, F1 Score: 0.5705\n",
      "Validation Loss: 1.1725\n",
      "current avg f1: 0.4705\n",
      "No improvement for 2 epoch(s).\n",
      "Epoch 21/100\n",
      "----------\n"
     ]
    },
    {
     "name": "stderr",
     "output_type": "stream",
     "text": [
      "                                                           \r"
     ]
    },
    {
     "name": "stdout",
     "output_type": "stream",
     "text": [
      "Train Loss: 0.5214, F1 Score: 0.6299\n"
     ]
    },
    {
     "name": "stderr",
     "output_type": "stream",
     "text": [
      "                                                           \r"
     ]
    },
    {
     "name": "stdout",
     "output_type": "stream",
     "text": [
      "Class 0: Best Threshold: 0.90, F1 Score: 0.4459\n",
      "Class 1: Best Threshold: 0.90, F1 Score: 0.4713\n",
      "Class 2: Best Threshold: 0.50, F1 Score: 0.4771\n",
      "Class 3: Best Threshold: 0.90, F1 Score: 0.5023\n",
      "Class 4: Best Threshold: 0.90, F1 Score: 0.3757\n",
      "Class 5: Best Threshold: 0.90, F1 Score: 0.3169\n",
      "Class 6: Best Threshold: 0.90, F1 Score: 0.2463\n",
      "Class 7: Best Threshold: 0.65, F1 Score: 0.5196\n",
      "Class 8: Best Threshold: 0.80, F1 Score: 0.6244\n",
      "Validation Loss: 1.4418\n",
      "current avg f1: 0.4422\n",
      "No improvement for 3 epoch(s).\n",
      "Epoch 22/100\n",
      "----------\n"
     ]
    },
    {
     "name": "stderr",
     "output_type": "stream",
     "text": [
      "                                                           \r"
     ]
    },
    {
     "name": "stdout",
     "output_type": "stream",
     "text": [
      "Train Loss: 0.5104, F1 Score: 0.6380\n"
     ]
    },
    {
     "name": "stderr",
     "output_type": "stream",
     "text": [
      "                                                           \r"
     ]
    },
    {
     "name": "stdout",
     "output_type": "stream",
     "text": [
      "Class 0: Best Threshold: 0.55, F1 Score: 0.5134\n",
      "Class 1: Best Threshold: 0.65, F1 Score: 0.5955\n",
      "Class 2: Best Threshold: 0.55, F1 Score: 0.6279\n",
      "Class 3: Best Threshold: 0.60, F1 Score: 0.5869\n",
      "Class 4: Best Threshold: 0.60, F1 Score: 0.5842\n",
      "Class 5: Best Threshold: 0.60, F1 Score: 0.5089\n",
      "Class 6: Best Threshold: 0.50, F1 Score: 0.4502\n",
      "Class 7: Best Threshold: 0.50, F1 Score: 0.5078\n",
      "Class 8: Best Threshold: 0.65, F1 Score: 0.6774\n",
      "Validation Loss: 0.8457\n",
      "current avg f1: 0.5613\n",
      "No improvement for 4 epoch(s).\n",
      "Epoch 23/100\n",
      "----------\n"
     ]
    },
    {
     "name": "stderr",
     "output_type": "stream",
     "text": [
      "                                                           \r"
     ]
    },
    {
     "name": "stdout",
     "output_type": "stream",
     "text": [
      "Train Loss: 0.4974, F1 Score: 0.6462\n"
     ]
    },
    {
     "name": "stderr",
     "output_type": "stream",
     "text": [
      "                                                           \r"
     ]
    },
    {
     "name": "stdout",
     "output_type": "stream",
     "text": [
      "Class 0: Best Threshold: 0.90, F1 Score: 0.5209\n",
      "Class 1: Best Threshold: 0.50, F1 Score: 0.5747\n",
      "Class 2: Best Threshold: 0.50, F1 Score: 0.6234\n",
      "Class 3: Best Threshold: 0.60, F1 Score: 0.5979\n",
      "Class 4: Best Threshold: 0.80, F1 Score: 0.5811\n",
      "Class 5: Best Threshold: 0.90, F1 Score: 0.5141\n",
      "Class 6: Best Threshold: 0.90, F1 Score: 0.4322\n",
      "Class 7: Best Threshold: 0.60, F1 Score: 0.5832\n",
      "Class 8: Best Threshold: 0.55, F1 Score: 0.6777\n",
      "Validation Loss: 0.7913\n",
      "current avg f1: 0.5673\n",
      "Best model saved.\n",
      "Epoch 24/100\n",
      "----------\n"
     ]
    },
    {
     "name": "stderr",
     "output_type": "stream",
     "text": [
      "                                                           \r"
     ]
    },
    {
     "name": "stdout",
     "output_type": "stream",
     "text": [
      "Train Loss: 0.4843, F1 Score: 0.6548\n"
     ]
    },
    {
     "name": "stderr",
     "output_type": "stream",
     "text": [
      "                                                           \r"
     ]
    },
    {
     "name": "stdout",
     "output_type": "stream",
     "text": [
      "Class 0: Best Threshold: 0.50, F1 Score: 0.5153\n",
      "Class 1: Best Threshold: 0.65, F1 Score: 0.5830\n",
      "Class 2: Best Threshold: 0.50, F1 Score: 0.6480\n",
      "Class 3: Best Threshold: 0.60, F1 Score: 0.5919\n",
      "Class 4: Best Threshold: 0.50, F1 Score: 0.5558\n",
      "Class 5: Best Threshold: 0.50, F1 Score: 0.4653\n",
      "Class 6: Best Threshold: 0.55, F1 Score: 0.4396\n",
      "Class 7: Best Threshold: 0.60, F1 Score: 0.5727\n",
      "Class 8: Best Threshold: 0.55, F1 Score: 0.6667\n",
      "Validation Loss: 0.9724\n",
      "current avg f1: 0.5598\n",
      "No improvement for 1 epoch(s).\n",
      "Epoch 25/100\n",
      "----------\n"
     ]
    },
    {
     "name": "stderr",
     "output_type": "stream",
     "text": [
      "                                                           \r"
     ]
    },
    {
     "name": "stdout",
     "output_type": "stream",
     "text": [
      "Train Loss: 0.4720, F1 Score: 0.6601\n"
     ]
    },
    {
     "name": "stderr",
     "output_type": "stream",
     "text": [
      "                                                           \r"
     ]
    },
    {
     "name": "stdout",
     "output_type": "stream",
     "text": [
      "Class 0: Best Threshold: 0.50, F1 Score: 0.5368\n",
      "Class 1: Best Threshold: 0.55, F1 Score: 0.5455\n",
      "Class 2: Best Threshold: 0.50, F1 Score: 0.6217\n",
      "Class 3: Best Threshold: 0.50, F1 Score: 0.6034\n",
      "Class 4: Best Threshold: 0.50, F1 Score: 0.4754\n",
      "Class 5: Best Threshold: 0.50, F1 Score: 0.3319\n",
      "Class 6: Best Threshold: 0.50, F1 Score: 0.3077\n",
      "Class 7: Best Threshold: 0.50, F1 Score: 0.5071\n",
      "Class 8: Best Threshold: 0.50, F1 Score: 0.6619\n",
      "Validation Loss: 1.1453\n",
      "current avg f1: 0.5102\n",
      "No improvement for 2 epoch(s).\n",
      "Epoch 26/100\n",
      "----------\n"
     ]
    },
    {
     "name": "stderr",
     "output_type": "stream",
     "text": [
      "                                                           \r"
     ]
    },
    {
     "name": "stdout",
     "output_type": "stream",
     "text": [
      "Train Loss: 0.4681, F1 Score: 0.6643\n"
     ]
    },
    {
     "name": "stderr",
     "output_type": "stream",
     "text": [
      "                                                           \r"
     ]
    },
    {
     "name": "stdout",
     "output_type": "stream",
     "text": [
      "Class 0: Best Threshold: 0.85, F1 Score: 0.5310\n",
      "Class 1: Best Threshold: 0.50, F1 Score: 0.5281\n",
      "Class 2: Best Threshold: 0.50, F1 Score: 0.6399\n",
      "Class 3: Best Threshold: 0.65, F1 Score: 0.5905\n",
      "Class 4: Best Threshold: 0.70, F1 Score: 0.5966\n",
      "Class 5: Best Threshold: 0.60, F1 Score: 0.5157\n",
      "Class 6: Best Threshold: 0.70, F1 Score: 0.4128\n",
      "Class 7: Best Threshold: 0.50, F1 Score: 0.4384\n",
      "Class 8: Best Threshold: 0.55, F1 Score: 0.6521\n",
      "Validation Loss: 0.9321\n",
      "current avg f1: 0.5450\n",
      "No improvement for 3 epoch(s).\n",
      "Epoch 27/100\n",
      "----------\n"
     ]
    },
    {
     "name": "stderr",
     "output_type": "stream",
     "text": [
      "                                                           \r"
     ]
    },
    {
     "name": "stdout",
     "output_type": "stream",
     "text": [
      "Train Loss: 0.4536, F1 Score: 0.6738\n"
     ]
    },
    {
     "name": "stderr",
     "output_type": "stream",
     "text": [
      "                                                           \r"
     ]
    },
    {
     "name": "stdout",
     "output_type": "stream",
     "text": [
      "Class 0: Best Threshold: 0.60, F1 Score: 0.5471\n",
      "Class 1: Best Threshold: 0.70, F1 Score: 0.5811\n",
      "Class 2: Best Threshold: 0.70, F1 Score: 0.6512\n",
      "Class 3: Best Threshold: 0.60, F1 Score: 0.6046\n",
      "Class 4: Best Threshold: 0.55, F1 Score: 0.5898\n",
      "Class 5: Best Threshold: 0.50, F1 Score: 0.5140\n",
      "Class 6: Best Threshold: 0.65, F1 Score: 0.4352\n",
      "Class 7: Best Threshold: 0.55, F1 Score: 0.5832\n",
      "Class 8: Best Threshold: 0.60, F1 Score: 0.6667\n",
      "Validation Loss: 0.8289\n",
      "current avg f1: 0.5748\n",
      "Best model saved.\n",
      "Epoch 28/100\n",
      "----------\n"
     ]
    },
    {
     "name": "stderr",
     "output_type": "stream",
     "text": [
      "                                                           \r"
     ]
    },
    {
     "name": "stdout",
     "output_type": "stream",
     "text": [
      "Train Loss: 0.4421, F1 Score: 0.6787\n"
     ]
    },
    {
     "name": "stderr",
     "output_type": "stream",
     "text": [
      "                                                           \r"
     ]
    },
    {
     "name": "stdout",
     "output_type": "stream",
     "text": [
      "Class 0: Best Threshold: 0.50, F1 Score: 0.5160\n",
      "Class 1: Best Threshold: 0.85, F1 Score: 0.5497\n",
      "Class 2: Best Threshold: 0.80, F1 Score: 0.6353\n",
      "Class 3: Best Threshold: 0.60, F1 Score: 0.5944\n",
      "Class 4: Best Threshold: 0.70, F1 Score: 0.5772\n",
      "Class 5: Best Threshold: 0.75, F1 Score: 0.5123\n",
      "Class 6: Best Threshold: 0.80, F1 Score: 0.4523\n",
      "Class 7: Best Threshold: 0.55, F1 Score: 0.5846\n",
      "Class 8: Best Threshold: 0.55, F1 Score: 0.6845\n",
      "Validation Loss: 0.8182\n",
      "current avg f1: 0.5674\n",
      "No improvement for 1 epoch(s).\n",
      "Epoch 29/100\n",
      "----------\n"
     ]
    },
    {
     "name": "stderr",
     "output_type": "stream",
     "text": [
      "                                                           \r"
     ]
    },
    {
     "name": "stdout",
     "output_type": "stream",
     "text": [
      "Train Loss: 0.4292, F1 Score: 0.6889\n"
     ]
    },
    {
     "name": "stderr",
     "output_type": "stream",
     "text": [
      "                                                           \r"
     ]
    },
    {
     "name": "stdout",
     "output_type": "stream",
     "text": [
      "Class 0: Best Threshold: 0.55, F1 Score: 0.5020\n",
      "Class 1: Best Threshold: 0.85, F1 Score: 0.5826\n",
      "Class 2: Best Threshold: 0.85, F1 Score: 0.6187\n",
      "Class 3: Best Threshold: 0.80, F1 Score: 0.5993\n",
      "Class 4: Best Threshold: 0.90, F1 Score: 0.5919\n",
      "Class 5: Best Threshold: 0.90, F1 Score: 0.5314\n",
      "Class 6: Best Threshold: 0.90, F1 Score: 0.4211\n",
      "Class 7: Best Threshold: 0.50, F1 Score: 0.5605\n",
      "Class 8: Best Threshold: 0.65, F1 Score: 0.6843\n",
      "Validation Loss: 0.8029\n",
      "current avg f1: 0.5658\n",
      "No improvement for 2 epoch(s).\n",
      "Epoch 30/100\n",
      "----------\n"
     ]
    },
    {
     "name": "stderr",
     "output_type": "stream",
     "text": [
      "                                                           \r"
     ]
    },
    {
     "name": "stdout",
     "output_type": "stream",
     "text": [
      "Train Loss: 0.4217, F1 Score: 0.6910\n"
     ]
    },
    {
     "name": "stderr",
     "output_type": "stream",
     "text": [
      "                                                           \r"
     ]
    },
    {
     "name": "stdout",
     "output_type": "stream",
     "text": [
      "Class 0: Best Threshold: 0.50, F1 Score: 0.5032\n",
      "Class 1: Best Threshold: 0.50, F1 Score: 0.4295\n",
      "Class 2: Best Threshold: 0.70, F1 Score: 0.6465\n",
      "Class 3: Best Threshold: 0.50, F1 Score: 0.4772\n",
      "Class 4: Best Threshold: 0.50, F1 Score: 0.3481\n",
      "Class 5: Best Threshold: 0.50, F1 Score: 0.3133\n",
      "Class 6: Best Threshold: 0.50, F1 Score: 0.3735\n",
      "Class 7: Best Threshold: 0.50, F1 Score: 0.5364\n",
      "Class 8: Best Threshold: 0.50, F1 Score: 0.5855\n",
      "Validation Loss: 1.5521\n",
      "current avg f1: 0.4681\n",
      "No improvement for 3 epoch(s).\n",
      "Epoch 31/100\n",
      "----------\n"
     ]
    },
    {
     "name": "stderr",
     "output_type": "stream",
     "text": [
      "                                                           \r"
     ]
    },
    {
     "name": "stdout",
     "output_type": "stream",
     "text": [
      "Train Loss: 0.4161, F1 Score: 0.6952\n"
     ]
    },
    {
     "name": "stderr",
     "output_type": "stream",
     "text": [
      "                                                           \r"
     ]
    },
    {
     "name": "stdout",
     "output_type": "stream",
     "text": [
      "Class 0: Best Threshold: 0.50, F1 Score: 0.4537\n",
      "Class 1: Best Threshold: 0.65, F1 Score: 0.5809\n",
      "Class 2: Best Threshold: 0.50, F1 Score: 0.6029\n",
      "Class 3: Best Threshold: 0.90, F1 Score: 0.5659\n",
      "Class 4: Best Threshold: 0.70, F1 Score: 0.5908\n",
      "Class 5: Best Threshold: 0.50, F1 Score: 0.4954\n",
      "Class 6: Best Threshold: 0.50, F1 Score: 0.3659\n",
      "Class 7: Best Threshold: 0.50, F1 Score: 0.2845\n",
      "Class 8: Best Threshold: 0.85, F1 Score: 0.6980\n",
      "Validation Loss: 1.1922\n",
      "current avg f1: 0.5153\n",
      "No improvement for 4 epoch(s).\n",
      "Epoch 32/100\n",
      "----------\n"
     ]
    },
    {
     "name": "stderr",
     "output_type": "stream",
     "text": [
      "                                                           \r"
     ]
    },
    {
     "name": "stdout",
     "output_type": "stream",
     "text": [
      "Train Loss: 0.4031, F1 Score: 0.7021\n"
     ]
    },
    {
     "name": "stderr",
     "output_type": "stream",
     "text": [
      "                                                           \r"
     ]
    },
    {
     "name": "stdout",
     "output_type": "stream",
     "text": [
      "Class 0: Best Threshold: 0.50, F1 Score: 0.4146\n",
      "Class 1: Best Threshold: 0.90, F1 Score: 0.5902\n",
      "Class 2: Best Threshold: 0.75, F1 Score: 0.6441\n",
      "Class 3: Best Threshold: 0.90, F1 Score: 0.5811\n",
      "Class 4: Best Threshold: 0.90, F1 Score: 0.5857\n",
      "Class 5: Best Threshold: 0.85, F1 Score: 0.5232\n",
      "Class 6: Best Threshold: 0.65, F1 Score: 0.4417\n",
      "Class 7: Best Threshold: 0.50, F1 Score: 0.4838\n",
      "Class 8: Best Threshold: 0.90, F1 Score: 0.6947\n",
      "Validation Loss: 0.9504\n",
      "current avg f1: 0.5510\n",
      "No improvement for 5 epoch(s).\n",
      "Epoch 33/100\n",
      "----------\n"
     ]
    },
    {
     "name": "stderr",
     "output_type": "stream",
     "text": [
      "                                                           \r"
     ]
    },
    {
     "name": "stdout",
     "output_type": "stream",
     "text": [
      "Train Loss: 0.3955, F1 Score: 0.7084\n"
     ]
    },
    {
     "name": "stderr",
     "output_type": "stream",
     "text": [
      "                                                           \r"
     ]
    },
    {
     "name": "stdout",
     "output_type": "stream",
     "text": [
      "Class 0: Best Threshold: 0.50, F1 Score: 0.4777\n",
      "Class 1: Best Threshold: 0.90, F1 Score: 0.5405\n",
      "Class 2: Best Threshold: 0.50, F1 Score: 0.6379\n",
      "Class 3: Best Threshold: 0.80, F1 Score: 0.5885\n",
      "Class 4: Best Threshold: 0.70, F1 Score: 0.5900\n",
      "Class 5: Best Threshold: 0.80, F1 Score: 0.5562\n",
      "Class 6: Best Threshold: 0.80, F1 Score: 0.4112\n",
      "Class 7: Best Threshold: 0.50, F1 Score: 0.5636\n",
      "Class 8: Best Threshold: 0.65, F1 Score: 0.6938\n",
      "Validation Loss: 0.8512\n",
      "Epoch    33: reducing learning rate of group 0 to 5.0000e-05.\n",
      "current avg f1: 0.5622\n",
      "No improvement for 6 epoch(s).\n",
      "Epoch 34/100\n",
      "----------\n"
     ]
    },
    {
     "name": "stderr",
     "output_type": "stream",
     "text": [
      "                                                           \r"
     ]
    },
    {
     "name": "stdout",
     "output_type": "stream",
     "text": [
      "Train Loss: 0.3633, F1 Score: 0.7293\n"
     ]
    },
    {
     "name": "stderr",
     "output_type": "stream",
     "text": [
      "                                                           \r"
     ]
    },
    {
     "name": "stdout",
     "output_type": "stream",
     "text": [
      "Class 0: Best Threshold: 0.55, F1 Score: 0.5000\n",
      "Class 1: Best Threshold: 0.85, F1 Score: 0.5786\n",
      "Class 2: Best Threshold: 0.55, F1 Score: 0.6551\n",
      "Class 3: Best Threshold: 0.60, F1 Score: 0.5968\n",
      "Class 4: Best Threshold: 0.55, F1 Score: 0.5450\n",
      "Class 5: Best Threshold: 0.65, F1 Score: 0.5000\n",
      "Class 6: Best Threshold: 0.55, F1 Score: 0.3878\n",
      "Class 7: Best Threshold: 0.60, F1 Score: 0.5802\n",
      "Class 8: Best Threshold: 0.70, F1 Score: 0.6949\n",
      "Validation Loss: 0.9504\n",
      "current avg f1: 0.5598\n",
      "No improvement for 7 epoch(s).\n",
      "Epoch 35/100\n",
      "----------\n"
     ]
    },
    {
     "name": "stderr",
     "output_type": "stream",
     "text": [
      "                                                           \r"
     ]
    },
    {
     "name": "stdout",
     "output_type": "stream",
     "text": [
      "Train Loss: 0.3529, F1 Score: 0.7359\n"
     ]
    },
    {
     "name": "stderr",
     "output_type": "stream",
     "text": [
      "                                                           \r"
     ]
    },
    {
     "name": "stdout",
     "output_type": "stream",
     "text": [
      "Class 0: Best Threshold: 0.50, F1 Score: 0.5178\n",
      "Class 1: Best Threshold: 0.55, F1 Score: 0.5528\n",
      "Class 2: Best Threshold: 0.50, F1 Score: 0.6119\n",
      "Class 3: Best Threshold: 0.70, F1 Score: 0.5998\n",
      "Class 4: Best Threshold: 0.50, F1 Score: 0.5874\n",
      "Class 5: Best Threshold: 0.50, F1 Score: 0.5080\n",
      "Class 6: Best Threshold: 0.50, F1 Score: 0.3600\n",
      "Class 7: Best Threshold: 0.50, F1 Score: 0.3417\n",
      "Class 8: Best Threshold: 0.55, F1 Score: 0.6931\n",
      "Validation Loss: 1.1894\n",
      "current avg f1: 0.5303\n",
      "No improvement for 8 epoch(s).\n",
      "Epoch 36/100\n",
      "----------\n"
     ]
    },
    {
     "name": "stderr",
     "output_type": "stream",
     "text": [
      "                                                           \r"
     ]
    },
    {
     "name": "stdout",
     "output_type": "stream",
     "text": [
      "Train Loss: 0.3448, F1 Score: 0.7402\n"
     ]
    },
    {
     "name": "stderr",
     "output_type": "stream",
     "text": [
      "                                                           \r"
     ]
    },
    {
     "name": "stdout",
     "output_type": "stream",
     "text": [
      "Class 0: Best Threshold: 0.70, F1 Score: 0.5227\n",
      "Class 1: Best Threshold: 0.85, F1 Score: 0.5639\n",
      "Class 2: Best Threshold: 0.50, F1 Score: 0.6572\n",
      "Class 3: Best Threshold: 0.50, F1 Score: 0.6061\n",
      "Class 4: Best Threshold: 0.50, F1 Score: 0.5408\n",
      "Class 5: Best Threshold: 0.55, F1 Score: 0.4783\n",
      "Class 6: Best Threshold: 0.55, F1 Score: 0.4261\n",
      "Class 7: Best Threshold: 0.80, F1 Score: 0.5950\n",
      "Class 8: Best Threshold: 0.60, F1 Score: 0.6964\n",
      "Validation Loss: 0.9800\n",
      "current avg f1: 0.5652\n",
      "No improvement for 9 epoch(s).\n",
      "Epoch 37/100\n",
      "----------\n"
     ]
    },
    {
     "name": "stderr",
     "output_type": "stream",
     "text": [
      "                                                           \r"
     ]
    },
    {
     "name": "stdout",
     "output_type": "stream",
     "text": [
      "Train Loss: 0.3441, F1 Score: 0.7423\n"
     ]
    },
    {
     "name": "stderr",
     "output_type": "stream",
     "text": [
      "                                                           \r"
     ]
    },
    {
     "name": "stdout",
     "output_type": "stream",
     "text": [
      "Class 0: Best Threshold: 0.50, F1 Score: 0.4232\n",
      "Class 1: Best Threshold: 0.55, F1 Score: 0.5235\n",
      "Class 2: Best Threshold: 0.85, F1 Score: 0.6389\n",
      "Class 3: Best Threshold: 0.65, F1 Score: 0.5963\n",
      "Class 4: Best Threshold: 0.55, F1 Score: 0.5798\n",
      "Class 5: Best Threshold: 0.50, F1 Score: 0.4811\n",
      "Class 6: Best Threshold: 0.55, F1 Score: 0.3553\n",
      "Class 7: Best Threshold: 0.50, F1 Score: 0.5185\n",
      "Class 8: Best Threshold: 0.50, F1 Score: 0.7022\n",
      "Validation Loss: 1.3350\n",
      "current avg f1: 0.5354\n",
      "No improvement for 10 epoch(s).\n",
      "Epoch 38/100\n",
      "----------\n"
     ]
    },
    {
     "name": "stderr",
     "output_type": "stream",
     "text": [
      "                                                           \r"
     ]
    },
    {
     "name": "stdout",
     "output_type": "stream",
     "text": [
      "Train Loss: 0.3315, F1 Score: 0.7490\n"
     ]
    },
    {
     "name": "stderr",
     "output_type": "stream",
     "text": [
      "                                                           \r"
     ]
    },
    {
     "name": "stdout",
     "output_type": "stream",
     "text": [
      "Class 0: Best Threshold: 0.55, F1 Score: 0.5087\n",
      "Class 1: Best Threshold: 0.60, F1 Score: 0.5621\n",
      "Class 2: Best Threshold: 0.75, F1 Score: 0.6418\n",
      "Class 3: Best Threshold: 0.50, F1 Score: 0.5779\n",
      "Class 4: Best Threshold: 0.50, F1 Score: 0.5988\n",
      "Class 5: Best Threshold: 0.60, F1 Score: 0.5212\n",
      "Class 6: Best Threshold: 0.50, F1 Score: 0.4161\n",
      "Class 7: Best Threshold: 0.80, F1 Score: 0.5813\n",
      "Class 8: Best Threshold: 0.60, F1 Score: 0.7015\n",
      "Validation Loss: 0.9355\n",
      "current avg f1: 0.5677\n",
      "No improvement for 11 epoch(s).\n",
      "Epoch 39/100\n",
      "----------\n"
     ]
    },
    {
     "name": "stderr",
     "output_type": "stream",
     "text": [
      "                                                           \r"
     ]
    },
    {
     "name": "stdout",
     "output_type": "stream",
     "text": [
      "Train Loss: 0.3273, F1 Score: 0.7551\n"
     ]
    },
    {
     "name": "stderr",
     "output_type": "stream",
     "text": [
      "                                                           \r"
     ]
    },
    {
     "name": "stdout",
     "output_type": "stream",
     "text": [
      "Class 0: Best Threshold: 0.55, F1 Score: 0.4919\n",
      "Class 1: Best Threshold: 0.60, F1 Score: 0.5659\n",
      "Class 2: Best Threshold: 0.85, F1 Score: 0.6356\n",
      "Class 3: Best Threshold: 0.50, F1 Score: 0.5478\n",
      "Class 4: Best Threshold: 0.50, F1 Score: 0.5791\n",
      "Class 5: Best Threshold: 0.55, F1 Score: 0.5184\n",
      "Class 6: Best Threshold: 0.90, F1 Score: 0.4221\n",
      "Class 7: Best Threshold: 0.85, F1 Score: 0.5789\n",
      "Class 8: Best Threshold: 0.50, F1 Score: 0.6505\n",
      "Validation Loss: 0.9933\n",
      "Epoch    39: reducing learning rate of group 0 to 2.5000e-05.\n",
      "current avg f1: 0.5545\n",
      "No improvement for 12 epoch(s).\n",
      "Epoch 40/100\n",
      "----------\n"
     ]
    },
    {
     "name": "stderr",
     "output_type": "stream",
     "text": [
      "                                                           \r"
     ]
    },
    {
     "name": "stdout",
     "output_type": "stream",
     "text": [
      "Train Loss: 0.3159, F1 Score: 0.7608\n"
     ]
    },
    {
     "name": "stderr",
     "output_type": "stream",
     "text": [
      "                                                           \r"
     ]
    },
    {
     "name": "stdout",
     "output_type": "stream",
     "text": [
      "Class 0: Best Threshold: 0.80, F1 Score: 0.5228\n",
      "Class 1: Best Threshold: 0.50, F1 Score: 0.5585\n",
      "Class 2: Best Threshold: 0.65, F1 Score: 0.6768\n",
      "Class 3: Best Threshold: 0.50, F1 Score: 0.6061\n",
      "Class 4: Best Threshold: 0.50, F1 Score: 0.5649\n",
      "Class 5: Best Threshold: 0.50, F1 Score: 0.5123\n",
      "Class 6: Best Threshold: 0.55, F1 Score: 0.3981\n",
      "Class 7: Best Threshold: 0.60, F1 Score: 0.6021\n",
      "Class 8: Best Threshold: 0.50, F1 Score: 0.6811\n",
      "Validation Loss: 1.0560\n",
      "current avg f1: 0.5692\n",
      "No improvement for 13 epoch(s).\n",
      "Epoch 41/100\n",
      "----------\n"
     ]
    },
    {
     "name": "stderr",
     "output_type": "stream",
     "text": [
      "                                                           \r"
     ]
    },
    {
     "name": "stdout",
     "output_type": "stream",
     "text": [
      "Train Loss: 0.3087, F1 Score: 0.7654\n"
     ]
    },
    {
     "name": "stderr",
     "output_type": "stream",
     "text": [
      "                                                           \r"
     ]
    },
    {
     "name": "stdout",
     "output_type": "stream",
     "text": [
      "Class 0: Best Threshold: 0.75, F1 Score: 0.5211\n",
      "Class 1: Best Threshold: 0.55, F1 Score: 0.5653\n",
      "Class 2: Best Threshold: 0.50, F1 Score: 0.6581\n",
      "Class 3: Best Threshold: 0.55, F1 Score: 0.6119\n",
      "Class 4: Best Threshold: 0.50, F1 Score: 0.5632\n",
      "Class 5: Best Threshold: 0.50, F1 Score: 0.5181\n",
      "Class 6: Best Threshold: 0.50, F1 Score: 0.3981\n",
      "Class 7: Best Threshold: 0.55, F1 Score: 0.5947\n",
      "Class 8: Best Threshold: 0.60, F1 Score: 0.6968\n",
      "Validation Loss: 1.0321\n",
      "current avg f1: 0.5697\n",
      "No improvement for 14 epoch(s).\n",
      "Epoch 42/100\n",
      "----------\n"
     ]
    },
    {
     "name": "stderr",
     "output_type": "stream",
     "text": [
      "                                                           \r"
     ]
    },
    {
     "name": "stdout",
     "output_type": "stream",
     "text": [
      "Train Loss: 0.3018, F1 Score: 0.7720\n"
     ]
    },
    {
     "name": "stderr",
     "output_type": "stream",
     "text": [
      "                                                           \r"
     ]
    },
    {
     "name": "stdout",
     "output_type": "stream",
     "text": [
      "Class 0: Best Threshold: 0.55, F1 Score: 0.5149\n",
      "Class 1: Best Threshold: 0.55, F1 Score: 0.5666\n",
      "Class 2: Best Threshold: 0.50, F1 Score: 0.6245\n",
      "Class 3: Best Threshold: 0.60, F1 Score: 0.6105\n",
      "Class 4: Best Threshold: 0.50, F1 Score: 0.5424\n",
      "Class 5: Best Threshold: 0.50, F1 Score: 0.4825\n",
      "Class 6: Best Threshold: 0.50, F1 Score: 0.3544\n",
      "Class 7: Best Threshold: 0.50, F1 Score: 0.4830\n",
      "Class 8: Best Threshold: 0.50, F1 Score: 0.7037\n",
      "Validation Loss: 1.2277\n",
      "current avg f1: 0.5425\n",
      "No improvement for 15 epoch(s).\n",
      "Early stopping triggered.\n",
      "Training complete\n"
     ]
    },
    {
     "data": {
      "image/png": "[encoded data removed]",
      "text/plain": [
       "<Figure size 720x360 with 1 Axes>"
      ]
     },
     "metadata": {
      "needs_background": "light"
     },
     "output_type": "display_data"
    },
    {
     "data": {
      "image/png": "[encoded data removed]",
      "text/plain": [
       "<Figure size 720x360 with 1 Axes>"
      ]
     },
     "metadata": {
      "needs_background": "light"
     },
     "output_type": "display_data"
    }
   ],
   "source": [
    "num_epochs = 100  # 设置训练的轮数\n",
    "best_model_wts = model_a.state_dict()\n",
    "best_f1_avg = 0.0  # 使用所有类别 F1 分数的平均值作为性能指标\n",
    "patience = 15\n",
    "early_stop_counter = 0\n",
    "\n",
    "train_losses = []\n",
    "val_losses = []\n",
    "train_f1_scores = []\n",
    "val_f1_scores = []\n",
    "\n",
    "scaler = GradScaler()\n",
    "\n",
    "for epoch in range(num_epochs):\n",
    "    print(f'Epoch {epoch+1}/{num_epochs}')\n",
    "    print('-' * 10)\n",
    "\n",
    "    # 训练阶段\n",
    "    train_loss, train_f1 = train(model_a, train_loader, criterion_a, optimizer_a)\n",
    "    train_losses.append(train_loss)\n",
    "    train_f1_scores.append(train_f1)\n",
    "\n",
    "    # 打印训练阶段的损失和 F1 分数\n",
    "    print(f'Train Loss: {train_loss:.4f}, F1 Score: {train_f1:.4f}')\n",
    "    \n",
    "    # 验证阶段\n",
    "    val_loss, best_thresholds, val_f1_scores_per_class, _ = validate(model_a, val_loader, criterion_a)\n",
    "    val_losses.append(val_loss)\n",
    "    val_f1_scores.append(np.mean(val_f1_scores_per_class))  # 记录所有类别 F1 分数的平均值\n",
    "\n",
    "    # 更新学习率调度器\n",
    "    scheduler_a.step(np.mean(val_f1_scores_per_class))\n",
    "\n",
    "    # 检查模型是否有改进\n",
    "    current_avg_f1 = np.mean(val_f1_scores_per_class)\n",
    "    #benchmark = current_avg_f1 * (1 - val_loss)\n",
    "    print(f\"current avg f1:{current_avg_f1: .4f}\")\n",
    "    if current_avg_f1 > best_f1_avg:\n",
    "        best_f1_avg = current_avg_f1\n",
    "        best_model_wts = model_a.state_dict()\n",
    "        torch.save(model_a.state_dict(), 'best_model.pth')\n",
    "        print('Best model saved.')\n",
    "        early_stop_counter = 0\n",
    "    else:\n",
    "        early_stop_counter += 1\n",
    "        print(f'No improvement for {early_stop_counter} epoch(s).')\n",
    "\n",
    "    if early_stop_counter >= patience:\n",
    "        print('Early stopping triggered.')\n",
    "        break\n",
    "    \n",
    "print('Training complete')\n",
    "\n",
    "# 绘制损失和 F1 分数的图\n",
    "import matplotlib.pyplot as plt\n",
    "\n",
    "actual_epochs = len(train_losses)\n",
    "plt.figure(figsize=(10, 5))\n",
    "plt.plot(range(1, actual_epochs+1), train_losses, label='Training Loss')\n",
    "plt.plot(range(1, actual_epochs+1), val_losses, label='Validation Loss')\n",
    "plt.xlabel('Epoch')\n",
    "plt.ylabel('Loss')\n",
    "plt.title('Loss Curve')\n",
    "plt.legend()\n",
    "plt.show()\n",
    "\n",
    "plt.figure(figsize=(10, 5))\n",
    "plt.plot(range(1, actual_epochs+1), train_f1_scores, label='Training F1 Score')\n",
    "plt.plot(range(1, actual_epochs+1), val_f1_scores, label='Validation F1 Score')\n",
    "plt.xlabel('Epoch')\n",
    "plt.ylabel('F1 Score')\n",
    "plt.title('F1 Score Curve')\n",
    "plt.legend()\n",
    "plt.show()"
   ]
  },
  {
   "cell_type": "code",
   "execution_count": 261,
   "metadata": {},
   "outputs": [],
   "source": [
    "\n",
    "from tqdm import tqdm\n",
    "from torch.cuda.amp import autocast, GradScaler\n",
    "from sklearn.metrics import f1_score\n",
    "\n",
    "def train(model, dataloader, criterion, optimizer):\n",
    "    model.train()\n",
    "    running_loss = 0.0\n",
    "    all_labels = []\n",
    "    all_preds = []\n",
    "\n",
    "    for inputs, labels in tqdm(dataloader, desc=\"Training\", leave=False):\n",
    "        inputs, labels = inputs.to(device), labels.to(device)\n",
    "\n",
    "        optimizer.zero_grad()\n",
    "        \n",
    "        outputs = model(inputs)\n",
    "        loss = criterion(outputs, labels)\n",
    "        loss.backward()\n",
    "\n",
    "        optimizer.step()\n",
    "\n",
    "        running_loss += loss.item() * inputs.size(0)\n",
    "        preds = torch.sigmoid(outputs).detach().cpu().numpy()\n",
    "        all_preds.append(preds)\n",
    "        all_labels.append(labels.cpu().numpy())\n",
    "\n",
    "    epoch_loss = running_loss / len(dataloader.dataset)\n",
    "    all_preds = np.vstack(all_preds)\n",
    "    all_labels = np.vstack(all_labels)\n",
    "\n",
    "    preds_binary = (all_preds > 0.7).astype(int)  # 调整阈值\n",
    "    epoch_f1 = f1_score(all_labels, preds_binary, average='macro')\n",
    "\n",
    "    return epoch_loss, epoch_f1\n",
    "\n",
    "def validate(model, dataloader, criterion):\n",
    "    model.eval()\n",
    "    running_loss = 0.0\n",
    "    all_labels = []\n",
    "    all_preds = []\n",
    "\n",
    "    validate_loader_tqdm = tqdm(dataloader, desc=\"Validating\", leave=False)\n",
    "    with torch.no_grad():\n",
    "        for inputs, labels in validate_loader_tqdm:\n",
    "            inputs = inputs.to(device)\n",
    "            labels = labels.to(device)\n",
    "\n",
    "            outputs = model(inputs)\n",
    "            loss = criterion(outputs, labels)\n",
    "\n",
    "            running_loss += loss.item() * inputs.size(0)\n",
    "\n",
    "            preds = torch.sigmoid(outputs).cpu().numpy()\n",
    "            all_preds.append(preds)\n",
    "            all_labels.append(labels.cpu().numpy())\n",
    "\n",
    "    epoch_loss = running_loss / len(dataloader.dataset)\n",
    "    all_preds = np.vstack(all_preds)\n",
    "    all_labels = np.vstack(all_labels)\n",
    "\n",
    "    # 获取每个类别的最佳阈值和计算每个类别的F1分数\n",
    "    best_thresholds = find_best_thresholds(all_labels, all_preds)\n",
    "    best_f1_scores = []\n",
    "\n",
    "    for i in range(all_labels.shape[1]):  # 遍历每个类别\n",
    "        threshold = best_thresholds[i]\n",
    "        preds_binary = (all_preds[:, i] > threshold).astype(int)\n",
    "        f1 = f1_score(all_labels[:, i], preds_binary)\n",
    "        best_f1_scores.append(f1)\n",
    "\n",
    "    # 打印每个类别的最佳阈值和 F1 分数\n",
    "    for i in range(len(best_f1_scores)):\n",
    "        print(f'Class {i}: Best Threshold: {best_thresholds[i]:.2f}, F1 Score: {best_f1_scores[i]:.4f}')\n",
    "\n",
    "    print(f'Validation Loss: {epoch_loss:.4f}')\n",
    "\n",
    "    # 返回整体验证损失和每类的F1分数\n",
    "    return epoch_loss, best_f1_scores\n"
   ]
  },
  {
   "cell_type": "code",
   "execution_count": 265,
   "metadata": {},
   "outputs": [
    {
     "name": "stdout",
     "output_type": "stream",
     "text": [
      "[0.5149253731343284, 0.5665859564164648, 0.6244604316546761, 0.6105006105006106, 0.5423728813559322, 0.48251748251748255, 0.3544303797468354, 0.4829821717990275, 0.70373312152502]\n"
     ]
    }
   ],
   "source": [
    "print(val_f1_scores_per_class)"
   ]
  },
  {
   "cell_type": "code",
   "execution_count": 266,
   "metadata": {},
   "outputs": [],
   "source": [
    "class TestDataset(Dataset):\n",
    "    def __init__(self, image_dir, transform=None):\n",
    "        # 搜索所有 .png 文件\n",
    "        self.image_paths = glob.glob(os.path.join(image_dir, '**', '*.png'), recursive=True)\n",
    "        self.transform = transform\n",
    "\n",
    "    def __len__(self):\n",
    "        return len(self.image_paths)\n",
    "\n",
    "    def __getitem__(self, index):\n",
    "        image_path = self.image_paths[index]\n",
    "        image = Image.open(image_path).convert('RGB')\n",
    "        \n",
    "        if self.transform:\n",
    "            image = self.transform(image)\n",
    "        \n",
    "        return image, image_path  # 返回图像和文件路径\n"
   ]
  },
  {
   "cell_type": "code",
   "execution_count": 267,
   "metadata": {},
   "outputs": [],
   "source": [
    "def format_id(file_name):\n",
    "    # 假设 file_name 格式是 \"202001010000_RAD_COMP.png\"\n",
    "    # 我们需要的 ID 是 \"202001010000\"\n",
    "    base_name = os.path.basename(file_name)  # 从路径中获取基础文件名\n",
    "    id_part = base_name.split('_')[0]  # 分割并获取日期时间部分\n",
    "    return id_part\n",
    "\n",
    "def generate_submission(model, dataloader, output_csv_path, thresholds):\n",
    "    model.eval()\n",
    "    predictions = []\n",
    "    ids = []\n",
    "\n",
    "    with torch.no_grad():\n",
    "        for inputs, paths in tqdm(dataloader, desc=\"Generating Submission\"):\n",
    "            inputs = inputs.to(device)\n",
    "            outputs = model(inputs)\n",
    "            outputs = torch.sigmoid(outputs).cpu().numpy()  # 将输出从 logits 转为概率\n",
    "            \n",
    "            # 按类别应用不同的阈值\n",
    "            preds = np.zeros_like(outputs)\n",
    "            for i, thresh in enumerate(thresholds):\n",
    "                preds[:, i] = (outputs[:, i] >= thresh).astype(float)\n",
    "            \n",
    "            predictions.append(preds)\n",
    "            ids.extend([format_id(path) for path in paths])  # 使用 format_id 获取 ID\n",
    "\n",
    "    predictions = np.vstack(predictions)\n",
    "    submission = pd.DataFrame(predictions, columns=[f\"label{i}\" for i in range(len(thresholds))])\n",
    "    submission.insert(0, \"ID\", ids)\n",
    "    submission.to_csv(output_csv_path, index=False)\n",
    "    print(f\"Submission saved to {output_csv_path}!\")\n"
   ]
  },
  {
   "cell_type": "code",
   "execution_count": 268,
   "metadata": {},
   "outputs": [],
   "source": [
    "validation_transforms = transforms.Compose([\n",
    "    transforms.Resize((256, 256)),\n",
    "    transforms.ToTensor(),\n",
    "    transforms.Normalize(mean=[0.0234, 0.0241, 0.0240], std=[0.0071, 0.0062, 0.0066])\n",
    "])\n",
    "\n",
    "image_dir = './dataset/test_dataset/image'\n",
    "test_dataset = TestDataset(image_dir, transform=validation_transforms)\n",
    "test_loader = DataLoader(test_dataset, batch_size=32, shuffle=False, num_workers=0,pin_memory=True)"
   ]
  },
  {
   "cell_type": "code",
   "execution_count": 269,
   "metadata": {},
   "outputs": [
    {
     "name": "stderr",
     "output_type": "stream",
     "text": [
      "Generating Submission: 100%|██████████| 137/137 [00:25<00:00,  5.40it/s]"
     ]
    },
    {
     "name": "stdout",
     "output_type": "stream",
     "text": [
      "Submission saved to submission_total.csv!\n"
     ]
    },
    {
     "name": "stderr",
     "output_type": "stream",
     "text": [
      "\n"
     ]
    }
   ],
   "source": [
    "# 确保模型是加载最佳权重\n",
    "model_a.load_state_dict(torch.load('单模型多头_全部数据_两次训练/best_model.pth'))\n",
    "\n",
    "# 生成提交文件\n",
    "generate_submission(model_a, test_loader, \"submission_total.csv\", thresholds=best_thresholds)"
   ]
  }
 ],
 "metadata": {
  "kernelspec": {
   "display_name": "pytorch",
   "language": "python",
   "name": "python3"
  },
  "language_info": {
   "codemirror_mode": {
    "name": "ipython",
    "version": 3
   },
   "file_extension": ".py",
   "mimetype": "text/x-python",
   "name": "python",
   "nbconvert_exporter": "python",
   "pygments_lexer": "ipython3",
   "version": "3.6.13"
  }
 },
 "nbformat": 4,
 "nbformat_minor": 2
}
